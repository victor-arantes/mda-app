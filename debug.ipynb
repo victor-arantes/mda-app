{
 "cells": [
  {
   "cell_type": "code",
   "id": "initial_id",
   "metadata": {
    "collapsed": true,
    "ExecuteTime": {
     "end_time": "2025-09-05T18:22:57.908134Z",
     "start_time": "2025-09-05T18:22:57.314631Z"
    }
   },
   "source": [
    "import geopandas as gpd\n",
    "\n",
    "# Carregar GeoJSON\n",
    "gdf = gpd.read_file(r\"C:\\Users\\Administrador\\PycharmProjects\\mda-app\\dados\\precificacao_al.geojson\")\n"
   ],
   "outputs": [],
   "execution_count": 5
  },
  {
   "metadata": {
    "ExecuteTime": {
     "end_time": "2025-09-05T18:23:05.489373Z",
     "start_time": "2025-09-05T18:23:05.484926Z"
    }
   },
   "cell_type": "code",
   "source": "gdf.columns",
   "id": "b0390062f9699cee",
   "outputs": [
    {
     "data": {
      "text/plain": [
       "Index(['fid', 'CD_MUN', 'NM_MUN', 'SIGLA_UF', 'ckey', 'populacao', 'nota_veg',\n",
       "       'nota_area', 'nota_relevo', 'nota_p_q1', 'nota_p_q2', 'nota_p_q3',\n",
       "       'nota_p_q4', 'nota_insalub', 'nota_insalub_2', 'area_cidade',\n",
       "       'area_georef', 'percent_area_georef', 'num_imoveis', 'area_car_total',\n",
       "       'area_car_media', 'perimetro_total_car', 'perimetro_medio_car',\n",
       "       'area_max_perim', 'nota_total_q1', 'nota_total_q2', 'nota_total_q3',\n",
       "       'nota_total_q4', 'nota_media', 'valor_mun_perim', 'valor_mun_area',\n",
       "       'geometry'],\n",
       "      dtype='object')"
      ]
     },
     "execution_count": 6,
     "metadata": {},
     "output_type": "execute_result"
    }
   ],
   "execution_count": 6
  }
 ],
 "metadata": {
  "kernelspec": {
   "display_name": "Python 3",
   "language": "python",
   "name": "python3"
  },
  "language_info": {
   "codemirror_mode": {
    "name": "ipython",
    "version": 2
   },
   "file_extension": ".py",
   "mimetype": "text/x-python",
   "name": "python",
   "nbconvert_exporter": "python",
   "pygments_lexer": "ipython2",
   "version": "2.7.6"
  }
 },
 "nbformat": 4,
 "nbformat_minor": 5
}
